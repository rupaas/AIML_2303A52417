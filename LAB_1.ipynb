{
  "nbformat": 4,
  "nbformat_minor": 0,
  "metadata": {
    "colab": {
      "provenance": [],
      "authorship_tag": "ABX9TyN7tWNnWl7SB/1Pvwzq6ZNm",
      "include_colab_link": true
    },
    "kernelspec": {
      "name": "python3",
      "display_name": "Python 3"
    },
    "language_info": {
      "name": "python"
    }
  },
  "cells": [
    {
      "cell_type": "markdown",
      "metadata": {
        "id": "view-in-github",
        "colab_type": "text"
      },
      "source": [
        "<a href=\"https://colab.research.google.com/github/rupaas/AIML_2303A52417/blob/main/LAB_1.ipynb\" target=\"_parent\"><img src=\"https://colab.research.google.com/assets/colab-badge.svg\" alt=\"Open In Colab\"/></a>"
      ]
    },
    {
      "cell_type": "code",
      "execution_count": null,
      "metadata": {
        "id": "RP-dIDKOmgLO"
      },
      "outputs": [],
      "source": []
    },
    {
      "cell_type": "markdown",
      "source": [
        "Part 01: Lab Task is implement the following data structures using Numpy and Pandas.**"
      ],
      "metadata": {
        "id": "ydwxw9Plmre6"
      }
    },
    {
      "cell_type": "markdown",
      "source": [
        "1.Lists\n",
        "2.Arrays\n",
        "3.Identify their type using type()\n",
        "4.Perform mathematical operations on these datasets created - multiplication, division, poweroff\n",
        "5.Combine text with Numpy fuction to generate a textual output - ”Addition of Two: array1 +array 2\n",
        "6.Implement np.sin(), log(), log2(), np.exp())\n"
      ],
      "metadata": {
        "id": "1z3W6jKinEjU"
      }
    },
    {
      "cell_type": "code",
      "source": [
        "import numpy as np\n",
        "list1=[1,2,3]\n",
        "array1 = np.array(list1)\n",
        "array1"
      ],
      "metadata": {
        "colab": {
          "base_uri": "https://localhost:8080/"
        },
        "id": "n2dDdsEPnaIH",
        "outputId": "9733d9a0-59ae-4ef6-99f5-22b3ef45a517"
      },
      "execution_count": 1,
      "outputs": [
        {
          "output_type": "execute_result",
          "data": {
            "text/plain": [
              "array([1, 2, 3])"
            ]
          },
          "metadata": {},
          "execution_count": 1
        }
      ]
    },
    {
      "cell_type": "code",
      "source": [
        "type(list1)"
      ],
      "metadata": {
        "colab": {
          "base_uri": "https://localhost:8080/"
        },
        "id": "vj0Y9ksNoBBN",
        "outputId": "85e70fc4-5469-4ea5-e083-a69d70315225"
      },
      "execution_count": 2,
      "outputs": [
        {
          "output_type": "execute_result",
          "data": {
            "text/plain": [
              "list"
            ]
          },
          "metadata": {},
          "execution_count": 2
        }
      ]
    },
    {
      "cell_type": "code",
      "source": [
        "type(array1)"
      ],
      "metadata": {
        "colab": {
          "base_uri": "https://localhost:8080/"
        },
        "id": "Rul3qqsUoRHX",
        "outputId": "a7e51a70-21e4-45fb-dbec-19c7530430f9"
      },
      "execution_count": 3,
      "outputs": [
        {
          "output_type": "execute_result",
          "data": {
            "text/plain": [
              "numpy.ndarray"
            ]
          },
          "metadata": {},
          "execution_count": 3
        }
      ]
    },
    {
      "cell_type": "markdown",
      "source": [
        "# Perform Mathematical Operations on these datasets - Multiplication, Division, Poweroff"
      ],
      "metadata": {
        "id": "v5b9l_t_oaqH"
      }
    },
    {
      "cell_type": "code",
      "source": [
        "import numpy as np\n",
        "array1 = np.array([1, 2, 3, 4, 5])\n",
        "array2 = np.array([6, 7, 8, 9, 10])\n",
        "multiplication = array1 * array2\n",
        "division = array2 / array1\n",
        "power = array2 ** array1\n",
        "print(\"array2 multiplied by array1: \", multiplication)\n",
        "print(\"array2 divided by array1: \", division)\n",
        "print(\"array2 raised to the power of array1: \", power)"
      ],
      "metadata": {
        "colab": {
          "base_uri": "https://localhost:8080/"
        },
        "id": "aguO03O9qtft",
        "outputId": "6977ebfe-574c-4b4b-9b94-abdd248fa982"
      },
      "execution_count": 6,
      "outputs": [
        {
          "output_type": "stream",
          "name": "stdout",
          "text": [
            "array2 multiplied by array1:  [ 6 14 24 36 50]\n",
            "array2 divided by array1:  [6.         3.5        2.66666667 2.25       2.        ]\n",
            "array2 raised to the power of array1:  [     6     49    512   6561 100000]\n"
          ]
        }
      ]
    },
    {
      "cell_type": "code",
      "source": [
        "\n",
        "print(\"array2 multiplied by array1: \", multiplication)\n",
        "print(\"array2 divided by array1: \", division)\n",
        "print(\"array2 raised to the power of array1: \", power)\n",
        "\n",
        "\n",
        "\n",
        "print(\"Sine: \", np.sin(array1))\n",
        "\n",
        "\n",
        "print(\"Natural logarithm: \", np.log(array1))\n",
        "print(\"Base-10 logarithm: \", np.log10(array1))\n",
        "print(\"Base-2 logarithm: \", np.log2(array1))\n",
        "\n",
        "\n",
        "print(\"Exponential: \", np.exp(array1))\n"
      ],
      "metadata": {
        "id": "6QRRYU6qrPLt"
      },
      "execution_count": null,
      "outputs": []
    }
  ]
}